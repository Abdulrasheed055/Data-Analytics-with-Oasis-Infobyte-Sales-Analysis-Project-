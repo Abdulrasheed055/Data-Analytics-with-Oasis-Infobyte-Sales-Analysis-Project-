{
 "cells": [
  {
   "cell_type": "markdown",
   "id": "cd14dd9a-4ec3-41ac-a38e-478f3a66fe09",
   "metadata": {},
   "source": [
    "`Project 1 Proposal \r\n",
    "\r\n",
    "Level 1`\n",
    "`Description:`\n",
    "\n",
    "`In this project, you will work with a dataset containing information about retail sales. The goal is\n",
    "to perform exploratory data analysis (EDA) to uncover patterns, trends, and insights that can\n",
    "help the retail business make informed decisions.`\n",
    "\n"
   ]
  },
  {
   "cell_type": "code",
   "execution_count": null,
   "id": "c1784090-2ba8-47aa-a85c-9f2cf70a29d1",
   "metadata": {},
   "outputs": [],
   "source": [
    "#import libraries "
   ]
  },
  {
   "cell_type": "code",
   "execution_count": 2,
   "id": "737295b1-2a6d-457b-bd28-ad930b53a156",
   "metadata": {},
   "outputs": [],
   "source": [
    "import numpy as np\n",
    "import pandas as pd\n",
    "import matplotlib.pyplot as plt\n",
    "import seaborn as sns\n",
    "\n"
   ]
  },
  {
   "cell_type": "markdown",
   "id": "927ec16e-4e3d-4369-aee6-e34f6a407231",
   "metadata": {},
   "source": [
    "# Load the Dataset:"
   ]
  },
  {
   "cell_type": "code",
   "execution_count": 3,
   "id": "620d741d-d880-4b18-8ae8-a077df08c17a",
   "metadata": {},
   "outputs": [],
   "source": [
    "mydata=pd.read_csv(r\"C:\\Users\\a\\Desktop\\intership2\\retail_sales_dataset.csv\")"
   ]
  },
  {
   "cell_type": "code",
   "execution_count": 4,
   "id": "8d22f493-67c5-445a-9121-07b363a535ab",
   "metadata": {},
   "outputs": [
    {
     "data": {
      "text/html": [
       "<div>\n",
       "<style scoped>\n",
       "    .dataframe tbody tr th:only-of-type {\n",
       "        vertical-align: middle;\n",
       "    }\n",
       "\n",
       "    .dataframe tbody tr th {\n",
       "        vertical-align: top;\n",
       "    }\n",
       "\n",
       "    .dataframe thead th {\n",
       "        text-align: right;\n",
       "    }\n",
       "</style>\n",
       "<table border=\"1\" class=\"dataframe\">\n",
       "  <thead>\n",
       "    <tr style=\"text-align: right;\">\n",
       "      <th></th>\n",
       "      <th>Transaction ID</th>\n",
       "      <th>Date</th>\n",
       "      <th>Customer ID</th>\n",
       "      <th>Gender</th>\n",
       "      <th>Age</th>\n",
       "      <th>Product Category</th>\n",
       "      <th>Quantity</th>\n",
       "      <th>Price per Unit</th>\n",
       "      <th>Total Amount</th>\n",
       "    </tr>\n",
       "  </thead>\n",
       "  <tbody>\n",
       "    <tr>\n",
       "      <th>0</th>\n",
       "      <td>1</td>\n",
       "      <td>2023-11-24</td>\n",
       "      <td>CUST001</td>\n",
       "      <td>Male</td>\n",
       "      <td>34</td>\n",
       "      <td>Beauty</td>\n",
       "      <td>3</td>\n",
       "      <td>50</td>\n",
       "      <td>150</td>\n",
       "    </tr>\n",
       "    <tr>\n",
       "      <th>1</th>\n",
       "      <td>2</td>\n",
       "      <td>2023-02-27</td>\n",
       "      <td>CUST002</td>\n",
       "      <td>Female</td>\n",
       "      <td>26</td>\n",
       "      <td>Clothing</td>\n",
       "      <td>2</td>\n",
       "      <td>500</td>\n",
       "      <td>1000</td>\n",
       "    </tr>\n",
       "  </tbody>\n",
       "</table>\n",
       "</div>"
      ],
      "text/plain": [
       "   Transaction ID        Date Customer ID  Gender  Age Product Category  \\\n",
       "0               1  2023-11-24     CUST001    Male   34           Beauty   \n",
       "1               2  2023-02-27     CUST002  Female   26         Clothing   \n",
       "\n",
       "   Quantity  Price per Unit  Total Amount  \n",
       "0         3              50           150  \n",
       "1         2             500          1000  "
      ]
     },
     "execution_count": 4,
     "metadata": {},
     "output_type": "execute_result"
    }
   ],
   "source": [
    "mydata.head(2)"
   ]
  },
  {
   "cell_type": "markdown",
   "id": "91e8daea-89c3-44fb-b398-3f62b7f353ce",
   "metadata": {},
   "source": [
    "# Inspect the Dataset:"
   ]
  },
  {
   "cell_type": "code",
   "execution_count": 5,
   "id": "b9eb73da-fe36-49fd-ac32-7fd52e0e37f0",
   "metadata": {},
   "outputs": [
    {
     "name": "stdout",
     "output_type": "stream",
     "text": [
      "<class 'pandas.core.frame.DataFrame'>\n",
      "RangeIndex: 1000 entries, 0 to 999\n",
      "Data columns (total 9 columns):\n",
      " #   Column            Non-Null Count  Dtype \n",
      "---  ------            --------------  ----- \n",
      " 0   Transaction ID    1000 non-null   int64 \n",
      " 1   Date              1000 non-null   object\n",
      " 2   Customer ID       1000 non-null   object\n",
      " 3   Gender            1000 non-null   object\n",
      " 4   Age               1000 non-null   int64 \n",
      " 5   Product Category  1000 non-null   object\n",
      " 6   Quantity          1000 non-null   int64 \n",
      " 7   Price per Unit    1000 non-null   int64 \n",
      " 8   Total Amount      1000 non-null   int64 \n",
      "dtypes: int64(5), object(4)\n",
      "memory usage: 70.4+ KB\n"
     ]
    }
   ],
   "source": [
    "mydata.info()"
   ]
  },
  {
   "cell_type": "code",
   "execution_count": 6,
   "id": "775877e8-a62d-4653-87fb-6a958389aad8",
   "metadata": {},
   "outputs": [
    {
     "data": {
      "text/html": [
       "<div>\n",
       "<style scoped>\n",
       "    .dataframe tbody tr th:only-of-type {\n",
       "        vertical-align: middle;\n",
       "    }\n",
       "\n",
       "    .dataframe tbody tr th {\n",
       "        vertical-align: top;\n",
       "    }\n",
       "\n",
       "    .dataframe thead th {\n",
       "        text-align: right;\n",
       "    }\n",
       "</style>\n",
       "<table border=\"1\" class=\"dataframe\">\n",
       "  <thead>\n",
       "    <tr style=\"text-align: right;\">\n",
       "      <th></th>\n",
       "      <th>Transaction ID</th>\n",
       "      <th>Age</th>\n",
       "      <th>Quantity</th>\n",
       "      <th>Price per Unit</th>\n",
       "      <th>Total Amount</th>\n",
       "    </tr>\n",
       "  </thead>\n",
       "  <tbody>\n",
       "    <tr>\n",
       "      <th>count</th>\n",
       "      <td>1000.000000</td>\n",
       "      <td>1000.00000</td>\n",
       "      <td>1000.000000</td>\n",
       "      <td>1000.000000</td>\n",
       "      <td>1000.000000</td>\n",
       "    </tr>\n",
       "    <tr>\n",
       "      <th>mean</th>\n",
       "      <td>500.500000</td>\n",
       "      <td>41.39200</td>\n",
       "      <td>2.514000</td>\n",
       "      <td>179.890000</td>\n",
       "      <td>456.000000</td>\n",
       "    </tr>\n",
       "    <tr>\n",
       "      <th>std</th>\n",
       "      <td>288.819436</td>\n",
       "      <td>13.68143</td>\n",
       "      <td>1.132734</td>\n",
       "      <td>189.681356</td>\n",
       "      <td>559.997632</td>\n",
       "    </tr>\n",
       "    <tr>\n",
       "      <th>min</th>\n",
       "      <td>1.000000</td>\n",
       "      <td>18.00000</td>\n",
       "      <td>1.000000</td>\n",
       "      <td>25.000000</td>\n",
       "      <td>25.000000</td>\n",
       "    </tr>\n",
       "    <tr>\n",
       "      <th>25%</th>\n",
       "      <td>250.750000</td>\n",
       "      <td>29.00000</td>\n",
       "      <td>1.000000</td>\n",
       "      <td>30.000000</td>\n",
       "      <td>60.000000</td>\n",
       "    </tr>\n",
       "    <tr>\n",
       "      <th>50%</th>\n",
       "      <td>500.500000</td>\n",
       "      <td>42.00000</td>\n",
       "      <td>3.000000</td>\n",
       "      <td>50.000000</td>\n",
       "      <td>135.000000</td>\n",
       "    </tr>\n",
       "    <tr>\n",
       "      <th>75%</th>\n",
       "      <td>750.250000</td>\n",
       "      <td>53.00000</td>\n",
       "      <td>4.000000</td>\n",
       "      <td>300.000000</td>\n",
       "      <td>900.000000</td>\n",
       "    </tr>\n",
       "    <tr>\n",
       "      <th>max</th>\n",
       "      <td>1000.000000</td>\n",
       "      <td>64.00000</td>\n",
       "      <td>4.000000</td>\n",
       "      <td>500.000000</td>\n",
       "      <td>2000.000000</td>\n",
       "    </tr>\n",
       "  </tbody>\n",
       "</table>\n",
       "</div>"
      ],
      "text/plain": [
       "       Transaction ID         Age     Quantity  Price per Unit  Total Amount\n",
       "count     1000.000000  1000.00000  1000.000000     1000.000000   1000.000000\n",
       "mean       500.500000    41.39200     2.514000      179.890000    456.000000\n",
       "std        288.819436    13.68143     1.132734      189.681356    559.997632\n",
       "min          1.000000    18.00000     1.000000       25.000000     25.000000\n",
       "25%        250.750000    29.00000     1.000000       30.000000     60.000000\n",
       "50%        500.500000    42.00000     3.000000       50.000000    135.000000\n",
       "75%        750.250000    53.00000     4.000000      300.000000    900.000000\n",
       "max       1000.000000    64.00000     4.000000      500.000000   2000.000000"
      ]
     },
     "execution_count": 6,
     "metadata": {},
     "output_type": "execute_result"
    }
   ],
   "source": [
    "mydata.describe()"
   ]
  },
  {
   "cell_type": "markdown",
   "id": "ab2268ad-548f-41ce-9e14-3845c5342b68",
   "metadata": {},
   "source": [
    "# 4 Check for Missing Values:"
   ]
  },
  {
   "cell_type": "code",
   "execution_count": 7,
   "id": "eee05ad0-3dad-4f1b-b30f-1b5e146e1456",
   "metadata": {},
   "outputs": [
    {
     "data": {
      "text/plain": [
       "Transaction ID      0\n",
       "Date                0\n",
       "Customer ID         0\n",
       "Gender              0\n",
       "Age                 0\n",
       "Product Category    0\n",
       "Quantity            0\n",
       "Price per Unit      0\n",
       "Total Amount        0\n",
       "dtype: int64"
      ]
     },
     "execution_count": 7,
     "metadata": {},
     "output_type": "execute_result"
    }
   ],
   "source": [
    "mydata.isnull().sum()"
   ]
  },
  {
   "cell_type": "markdown",
   "id": "d6d2bb3c-a13c-49dc-8b01-903ad654a3f5",
   "metadata": {},
   "source": [
    "# Step 2: Perform Descriptive Statistics"
   ]
  },
  {
   "cell_type": "code",
   "execution_count": 8,
   "id": "8e303252-918b-4803-abc5-8e29afb28a5d",
   "metadata": {},
   "outputs": [
    {
     "data": {
      "text/html": [
       "<div>\n",
       "<style scoped>\n",
       "    .dataframe tbody tr th:only-of-type {\n",
       "        vertical-align: middle;\n",
       "    }\n",
       "\n",
       "    .dataframe tbody tr th {\n",
       "        vertical-align: top;\n",
       "    }\n",
       "\n",
       "    .dataframe thead th {\n",
       "        text-align: right;\n",
       "    }\n",
       "</style>\n",
       "<table border=\"1\" class=\"dataframe\">\n",
       "  <thead>\n",
       "    <tr style=\"text-align: right;\">\n",
       "      <th></th>\n",
       "      <th>Quantity</th>\n",
       "      <th>Price per Unit</th>\n",
       "      <th>Total Amount</th>\n",
       "    </tr>\n",
       "  </thead>\n",
       "  <tbody>\n",
       "    <tr>\n",
       "      <th>count</th>\n",
       "      <td>1000.000000</td>\n",
       "      <td>1000.000000</td>\n",
       "      <td>1000.000000</td>\n",
       "    </tr>\n",
       "    <tr>\n",
       "      <th>mean</th>\n",
       "      <td>2.514000</td>\n",
       "      <td>179.890000</td>\n",
       "      <td>456.000000</td>\n",
       "    </tr>\n",
       "    <tr>\n",
       "      <th>std</th>\n",
       "      <td>1.132734</td>\n",
       "      <td>189.681356</td>\n",
       "      <td>559.997632</td>\n",
       "    </tr>\n",
       "    <tr>\n",
       "      <th>min</th>\n",
       "      <td>1.000000</td>\n",
       "      <td>25.000000</td>\n",
       "      <td>25.000000</td>\n",
       "    </tr>\n",
       "    <tr>\n",
       "      <th>25%</th>\n",
       "      <td>1.000000</td>\n",
       "      <td>30.000000</td>\n",
       "      <td>60.000000</td>\n",
       "    </tr>\n",
       "    <tr>\n",
       "      <th>50%</th>\n",
       "      <td>3.000000</td>\n",
       "      <td>50.000000</td>\n",
       "      <td>135.000000</td>\n",
       "    </tr>\n",
       "    <tr>\n",
       "      <th>75%</th>\n",
       "      <td>4.000000</td>\n",
       "      <td>300.000000</td>\n",
       "      <td>900.000000</td>\n",
       "    </tr>\n",
       "    <tr>\n",
       "      <th>max</th>\n",
       "      <td>4.000000</td>\n",
       "      <td>500.000000</td>\n",
       "      <td>2000.000000</td>\n",
       "    </tr>\n",
       "  </tbody>\n",
       "</table>\n",
       "</div>"
      ],
      "text/plain": [
       "          Quantity  Price per Unit  Total Amount\n",
       "count  1000.000000     1000.000000   1000.000000\n",
       "mean      2.514000      179.890000    456.000000\n",
       "std       1.132734      189.681356    559.997632\n",
       "min       1.000000       25.000000     25.000000\n",
       "25%       1.000000       30.000000     60.000000\n",
       "50%       3.000000       50.000000    135.000000\n",
       "75%       4.000000      300.000000    900.000000\n",
       "max       4.000000      500.000000   2000.000000"
      ]
     },
     "execution_count": 8,
     "metadata": {},
     "output_type": "execute_result"
    }
   ],
   "source": [
    "mydata[[ \"Quantity\",\"Price per Unit\",\"Total Amount\"]].describe()"
   ]
  },
  {
   "cell_type": "markdown",
   "id": "a250abf2-004b-48b2-a5b6-96f601b6e159",
   "metadata": {},
   "source": [
    "# 3 step Analyze customer demographics:"
   ]
  },
  {
   "cell_type": "code",
   "execution_count": 9,
   "id": "cb029541-0309-4f08-bcf6-caf0bda6d5c5",
   "metadata": {},
   "outputs": [
    {
     "data": {
      "text/plain": [
       "Gender\n",
       "Female    510\n",
       "Male      490\n",
       "Name: count, dtype: int64"
      ]
     },
     "execution_count": 9,
     "metadata": {},
     "output_type": "execute_result"
    }
   ],
   "source": [
    "mydata[\"Gender\"].value_counts()"
   ]
  },
  {
   "cell_type": "code",
   "execution_count": 11,
   "id": "fe89ab6c-3cf3-4f8a-9a93-a43a0b23db02",
   "metadata": {},
   "outputs": [
    {
     "data": {
      "text/plain": [
       "1000"
      ]
     },
     "execution_count": 11,
     "metadata": {},
     "output_type": "execute_result"
    }
   ],
   "source": [
    "mydata[\"Customer ID\"].nunique()"
   ]
  },
  {
   "cell_type": "markdown",
   "id": "57dcb5e9-a647-46e8-a017-5b55215e1b77",
   "metadata": {},
   "source": [
    "# Step 4: Analyze Sales Trends Over Time"
   ]
  },
  {
   "cell_type": "code",
   "execution_count": 12,
   "id": "24760eb4-b0c2-4d48-83a7-3684a7091283",
   "metadata": {},
   "outputs": [
    {
     "data": {
      "text/plain": [
       "Transaction ID       int64\n",
       "Date                object\n",
       "Customer ID         object\n",
       "Gender              object\n",
       "Age                  int64\n",
       "Product Category    object\n",
       "Quantity             int64\n",
       "Price per Unit       int64\n",
       "Total Amount         int64\n",
       "dtype: object"
      ]
     },
     "execution_count": 12,
     "metadata": {},
     "output_type": "execute_result"
    }
   ],
   "source": [
    "mydata.dtypes"
   ]
  },
  {
   "cell_type": "code",
   "execution_count": 15,
   "id": "0b2789e5-6854-4234-9dd7-e6e448adfa2e",
   "metadata": {},
   "outputs": [],
   "source": [
    "#conver data to datatime format\n",
    "mydata[\"Date\"]=mydata[\"Date\"].astype('datetime64[ns]')"
   ]
  },
  {
   "cell_type": "code",
   "execution_count": 14,
   "id": "388f62a7-7788-4781-91d8-1c440135baec",
   "metadata": {},
   "outputs": [
    {
     "data": {
      "text/plain": [
       "Transaction ID               int64\n",
       "Date                datetime64[ns]\n",
       "Customer ID                 object\n",
       "Gender                      object\n",
       "Age                          int64\n",
       "Product Category            object\n",
       "Quantity                     int64\n",
       "Price per Unit               int64\n",
       "Total Amount                 int64\n",
       "dtype: object"
      ]
     },
     "execution_count": 14,
     "metadata": {},
     "output_type": "execute_result"
    }
   ],
   "source": [
    "mydata.dtypes"
   ]
  },
  {
   "cell_type": "code",
   "execution_count": 16,
   "id": "b4b5b93d-d917-4739-adb3-f60514ded03c",
   "metadata": {},
   "outputs": [],
   "source": [
    "mydata['month']=mydata['Date'].dt.to_period('M')"
   ]
  },
  {
   "cell_type": "code",
   "execution_count": 17,
   "id": "869fa697-f4ed-49ff-b89f-e882ed7bd0e4",
   "metadata": {},
   "outputs": [],
   "source": [
    "monthly_sale=mydata.groupby('month')['Total Amount'].sum()"
   ]
  },
  {
   "cell_type": "code",
   "execution_count": 15,
   "id": "81495250-9138-4c8b-9e5f-751ba4b761e7",
   "metadata": {},
   "outputs": [
    {
     "data": {
      "text/plain": [
       "month\n",
       "2023-01    35450\n",
       "2023-02    44060\n",
       "2023-03    28990\n",
       "2023-04    33870\n",
       "2023-05    53150\n",
       "2023-06    36715\n",
       "2023-07    35465\n",
       "2023-08    36960\n",
       "2023-09    23620\n",
       "2023-10    46580\n",
       "2023-11    34920\n",
       "2023-12    44690\n",
       "2024-01     1530\n",
       "Freq: M, Name: Total Amount, dtype: int64"
      ]
     },
     "execution_count": 15,
     "metadata": {},
     "output_type": "execute_result"
    }
   ],
   "source": [
    "monthly_sale"
   ]
  },
  {
   "cell_type": "code",
   "execution_count": 18,
   "id": "1789b10e-f109-4634-81d0-6a15ae06fc3d",
   "metadata": {},
   "outputs": [
    {
     "name": "stdout",
     "output_type": "stream",
     "text": [
      "month\n",
      "2023-01    35450\n",
      "2023-02    44060\n",
      "2023-03    28990\n",
      "2023-04    33870\n",
      "2023-05    53150\n",
      "Freq: M, Name: Total Amount, dtype: int64\n"
     ]
    }
   ],
   "source": [
    "print(monthly_sale.head())\n"
   ]
  },
  {
   "cell_type": "code",
   "execution_count": 19,
   "id": "69fdbfda-285f-43c9-8a80-b39d20891e66",
   "metadata": {},
   "outputs": [],
   "source": [
    "monthly_sale.index = monthly_sale.index.to_timestamp()  # Convert PeriodIndex to Timestamp\n",
    "monthly_sale.index = monthly_sale.index.strftime('%B %Y')  # Format as \"Month Year\"\n"
   ]
  },
  {
   "cell_type": "code",
   "execution_count": 20,
   "id": "3dbc30d7-0814-42fa-8a57-34c8f0f73a4d",
   "metadata": {},
   "outputs": [
    {
     "data": {
      "image/png": "[encoded data removed]",
      "text/plain": [
       "<Figure size 1200x600 with 1 Axes>"
      ]
     },
     "metadata": {},
     "output_type": "display_data"
    }
   ],
   "source": [
    "plt.figure(figsize=(12, 6))\n",
    "plt.plot(monthly_sale.index, monthly_sale.values, marker='o', label='Monthly Sales') # Line Chart with Markers. \n",
    "plt.title(\"Monthly Sales Trend\")\n",
    "plt.xlabel(\"Month\")\n",
    "plt.ylabel(\"Total Sales\")\n",
    "plt.xticks(rotation=45)  # Rotate for better visibility\n",
    "plt.grid()\n",
    "plt.legend()\n",
    "plt.show()\n"
   ]
  },
  {
   "cell_type": "markdown",
   "id": "0779d8ab-15c3-4d85-8b8c-0b183d34833b",
   "metadata": {},
   "source": [
    "# Step 4: Customer and Product Analysis"
   ]
  },
  {
   "cell_type": "markdown",
   "id": "2fbc5846-60f3-4aee-be82-ee00585ffe33",
   "metadata": {},
   "source": [
    "# Top product"
   ]
  },
  {
   "cell_type": "code",
   "execution_count": 21,
   "id": "4c028cf0-5bf8-47e2-849e-92e287834ecb",
   "metadata": {
    "scrolled": true
   },
   "outputs": [
    {
     "data": {
      "text/plain": [
       "Product Category\n",
       "Electronics    156905\n",
       "Clothing       155580\n",
       "Beauty         143515\n",
       "Name: Total Amount, dtype: int64"
      ]
     },
     "execution_count": 21,
     "metadata": {},
     "output_type": "execute_result"
    }
   ],
   "source": [
    "Top_products=mydata.groupby(\"Product Category\")[\"Total Amount\"].sum().sort_values(ascending=False)\n",
    "Top_products.head()"
   ]
  },
  {
   "cell_type": "code",
   "execution_count": 29,
   "id": "4881b503-69da-4470-8fac-22164c682468",
   "metadata": {},
   "outputs": [
    {
     "data": {
      "image/png": "[encoded data removed]",
      "text/plain": [
       "<Figure size 600x500 with 1 Axes>"
      ]
     },
     "metadata": {},
     "output_type": "display_data"
    }
   ],
   "source": [
    "plt.figure(figsize=(6, 5))\n",
    "\n",
    "# Create the bar plot with hue set to x (to apply the palette without warning)\n",
    "sns.barplot(x=Top_products.index, y=Top_products.values, hue=Top_products.index, dodge=False, palette='viridis', legend=False)\n",
    "\n",
    "# Add title and adjust x-axis labels\n",
    "plt.title(\"Products by Total Sales\")\n",
    "plt.xlabel(\"Product Category\")\n",
    "plt.ylabel(\"Total Sales\")\n",
    "plt.xticks(rotation=45, fontsize=10)\n",
    "\n",
    "# Annotate bars with total sales values\n",
    "for i, value in enumerate(Top_products.values):\n",
    "    plt.text(i, value + (value * 0.01), f'{value:,}')\n",
    "\n",
    "# Show the plot\n",
    "plt.tight_layout()\n",
    "plt.show()\n"
   ]
  },
  {
   "cell_type": "markdown",
   "id": "0cceac3e-6baf-425c-b8d3-5de9289de33d",
   "metadata": {},
   "source": [
    "\n",
    "# Customer Purchase Behavior:"
   ]
  },
  {
   "cell_type": "code",
   "execution_count": 30,
   "id": "4c666319-48f5-4d98-adbd-e69164436d8e",
   "metadata": {},
   "outputs": [
    {
     "data": {
      "text/plain": [
       "Customer ID\n",
       "CUST487    2000\n",
       "CUST476    2000\n",
       "CUST773    2000\n",
       "CUST503    2000\n",
       "CUST093    2000\n",
       "Name: Total Amount, dtype: int64"
      ]
     },
     "execution_count": 30,
     "metadata": {},
     "output_type": "execute_result"
    }
   ],
   "source": [
    "customer_behaviour=mydata.groupby(\"Customer ID\")[\"Total Amount\"].sum().sort_values(ascending=False)\n",
    "customer_behaviour.head()"
   ]
  },
  {
   "cell_type": "markdown",
   "id": "af6426a6-09cf-4840-99f8-47ee1aaefddb",
   "metadata": {},
   "source": [
    "# Gender-Based Analysis"
   ]
  },
  {
   "cell_type": "code",
   "execution_count": 31,
   "id": "fe318540-36ee-4813-918a-889f9149e329",
   "metadata": {},
   "outputs": [
    {
     "data": {
      "text/plain": [
       "Gender\n",
       "Female    232840\n",
       "Male      223160\n",
       "Name: Total Amount, dtype: int64"
      ]
     },
     "execution_count": 31,
     "metadata": {},
     "output_type": "execute_result"
    }
   ],
   "source": [
    "Gender_sales=mydata.groupby(\"Gender\")[\"Total Amount\"].sum()\n",
    "Gender_sales"
   ]
  },
  {
   "cell_type": "code",
   "execution_count": 34,
   "id": "787243e3-34af-4e19-befb-c039c3323605",
   "metadata": {},
   "outputs": [
    {
     "data": {
      "image/png": "[encoded data removed]",
      "text/plain": [
       "<Figure size 600x400 with 1 Axes>"
      ]
     },
     "metadata": {},
     "output_type": "display_data"
    }
   ],
   "source": [
    "\n",
    "plt.figure(figsize=(6, 4))\n",
    "\n",
    "# Set custom colors for Male and Female\n",
    "colors = ['blue', 'green']  # Choose colors for each category\n",
    "ax = Gender_sales.plot(kind='bar', color=colors, edgecolor='black', width=0.6)\n",
    "\n",
    "\n",
    "# Add labels and title\n",
    "plt.title(\"Sales by Gender\")\n",
    "plt.xlabel(\"Gender\")\n",
    "plt.ylabel(\"Total Sales\")\n",
    "plt.xticks(rotation=0)  # Keep x-axis labels horizontal\n",
    "plt.yticks(fontsize=10)\n",
    "\n",
    "# Annotate bars with total sales values\n",
    "for i, value in enumerate(Gender_sales):\n",
    "    plt.text(i, value + 1000, f'{value:,}')\n",
    "\n",
    "# Add grid for better readability\n",
    "plt.grid(axis='y', linestyle='--', alpha=0.7)\n",
    "\n",
    "# Show the chart\n",
    "plt.tight_layout()\n",
    "plt.show()\n"
   ]
  },
  {
   "cell_type": "code",
   "execution_count": null,
   "id": "3905e285-51aa-45a0-b048-4d8bcb0e80fd",
   "metadata": {},
   "outputs": [],
   "source": []
  },
  {
   "cell_type": "markdown",
   "id": "35c171fd-19f7-4742-876d-d1166cae6d96",
   "metadata": {},
   "source": [
    "Step 5: Recommendations\n",
    "Based on your findings, write actionable recommendations. For example:\n",
    "\n",
    "Focus marketing efforts on top-selling products.\n",
    "Design promotions targeted at high-value customers.\n",
    "Encourage repeat purchases from certain customer segments (e.g., gender-specific promotions)."
   ]
  },
  {
   "cell_type": "markdown",
   "id": "4e861589-a731-49b0-8bb7-66cb438b3ae1",
   "metadata": {},
   "source": [
    "# Insight and recomendation"
   ]
  },
  {
   "cell_type": "markdown",
   "id": "4340a90a-2383-42fa-9967-0349c6686e40",
   "metadata": {},
   "source": [
    "-\r\n",
    "\r\n",
    "# **1. Customer Demograps**  \r\n",
    "Female customers (51%) slightly outnumber males (49%) and spend m\n",
    "recommendation \n",
    "ore. Targeted campaigns can boost engagement across both genders\r\n",
    "\r\n",
    "--\n",
    "\r\n",
    "### **2. Sales Trends  Time**  \r\n",
    "May 2023 saw peak sales, while January 2024 droppe\n",
    "recommendation \n",
    " sharply. Seasonal promotions and loyalty programs can stabilize yearly re.  \r\n",
    "---\r\n",
    "\r\n",
    "### **3. Top ProdCategories**  \r\n",
    "Electronics, Clothing, and Beauty \n",
    "recommendation \n",
    "lead in sales. Focus on bundles, cross-selling, and exclusive deals to sustain categrowt  \r\n",
    "\r\n",
    "---\r\n",
    "\r\n",
    "### **4. Customeurchase Behavior**  \r\n",
    "Top customer\n",
    "recommendation \n",
    " spent $2,000 each. Reward loyalty with VIP offers and segment potential buyers to nurture more high-uneed additional changes!itional changes!"
   ]
  },
  {
   "cell_type": "code",
   "execution_count": null,
   "id": "3b1a2f00-3f9e-4154-a844-34ca592dd917",
   "metadata": {},
   "outputs": [],
   "source": []
  }
 ],
 "metadata": {
  "kernelspec": {
   "display_name": "Python 3",
   "language": "python",
   "name": "python3"
  },
  "language_info": {
   "codemirror_mode": {
    "name": "ipython",
    "version": 3
   },
   "file_extension": ".py",
   "mimetype": "text/x-python",
   "name": "python",
   "nbconvert_exporter": "python",
   "pygments_lexer": "ipython3",
   "version": "3.12.4"
  }
 },
 "nbformat": 4,
 "nbformat_minor": 5
}
